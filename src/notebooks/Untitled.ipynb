{
 "cells": [
  {
   "cell_type": "code",
   "execution_count": 1,
   "metadata": {},
   "outputs": [
    {
     "name": "stdout",
     "output_type": "stream",
     "text": [
      "Requirement already satisfied: streamlit in c:\\users\\charan\\anaconda3\\lib\\site-packages (0.79.0)\n",
      "Collecting streamlit\n",
      "  Downloading streamlit-0.82.0-py2.py3-none-any.whl (8.2 MB)\n",
      "Requirement already satisfied: toml in c:\\users\\charan\\anaconda3\\lib\\site-packages (from streamlit) (0.10.2)\n",
      "Requirement already satisfied: pydeck>=0.1.dev5 in c:\\users\\charan\\anaconda3\\lib\\site-packages (from streamlit) (0.6.1)\n",
      "Requirement already satisfied: pillow>=6.2.0 in c:\\users\\charan\\anaconda3\\lib\\site-packages (from streamlit) (6.2.0)\n",
      "Requirement already satisfied: packaging in c:\\users\\charan\\anaconda3\\lib\\site-packages (from streamlit) (19.2)\n",
      "Requirement already satisfied: requests in c:\\users\\charan\\anaconda3\\lib\\site-packages (from streamlit) (2.22.0)\n",
      "Requirement already satisfied: altair>=3.2.0 in c:\\users\\charan\\anaconda3\\lib\\site-packages (from streamlit) (4.1.0)\n",
      "Requirement already satisfied: gitpython in c:\\users\\charan\\anaconda3\\lib\\site-packages (from streamlit) (3.1.14)\n",
      "Requirement already satisfied: cachetools>=4.0 in c:\\users\\charan\\anaconda3\\lib\\site-packages (from streamlit) (4.2.1)\n",
      "Requirement already satisfied: pyarrow in c:\\users\\charan\\anaconda3\\lib\\site-packages (from streamlit) (3.0.0)\n",
      "Requirement already satisfied: tzlocal in c:\\users\\charan\\anaconda3\\lib\\site-packages (from streamlit) (2.1)\n",
      "Requirement already satisfied: click<8.0,>=7.0 in c:\\users\\charan\\anaconda3\\lib\\site-packages (from streamlit) (7.0)\n",
      "Requirement already satisfied: numpy in c:\\users\\charan\\anaconda3\\lib\\site-packages (from streamlit) (1.19.5)\n",
      "Requirement already satisfied: watchdog in c:\\users\\charan\\anaconda3\\lib\\site-packages (from streamlit) (2.0.2)\n",
      "Requirement already satisfied: protobuf!=3.11,>=3.6.0 in c:\\users\\charan\\anaconda3\\lib\\site-packages (from streamlit) (3.15.6)\n",
      "Requirement already satisfied: base58 in c:\\users\\charan\\anaconda3\\lib\\site-packages (from streamlit) (2.1.0)\n",
      "Requirement already satisfied: blinker in c:\\users\\charan\\anaconda3\\lib\\site-packages (from streamlit) (1.4)\n",
      "Requirement already satisfied: pandas>=0.21.0 in c:\\users\\charan\\anaconda3\\lib\\site-packages (from streamlit) (0.25.1)\n",
      "Requirement already satisfied: python-dateutil in c:\\users\\charan\\anaconda3\\lib\\site-packages (from streamlit) (2.8.0)\n",
      "Requirement already satisfied: validators in c:\\users\\charan\\anaconda3\\lib\\site-packages (from streamlit) (0.18.2)\n",
      "Requirement already satisfied: astor in c:\\users\\charan\\anaconda3\\lib\\site-packages (from streamlit) (0.8.1)\n",
      "Requirement already satisfied: tornado>=5.0 in c:\\users\\charan\\anaconda3\\lib\\site-packages (from streamlit) (6.0.3)\n",
      "Requirement already satisfied: jsonschema in c:\\users\\charan\\anaconda3\\lib\\site-packages (from altair>=3.2.0->streamlit) (3.0.2)\n",
      "Requirement already satisfied: entrypoints in c:\\users\\charan\\anaconda3\\lib\\site-packages (from altair>=3.2.0->streamlit) (0.3)\n",
      "Requirement already satisfied: toolz in c:\\users\\charan\\anaconda3\\lib\\site-packages (from altair>=3.2.0->streamlit) (0.10.0)\n",
      "Requirement already satisfied: jinja2 in c:\\users\\charan\\anaconda3\\lib\\site-packages (from altair>=3.2.0->streamlit) (2.10.3)\n",
      "Requirement already satisfied: pytz>=2017.2 in c:\\users\\charan\\anaconda3\\lib\\site-packages (from pandas>=0.21.0->streamlit) (2019.3)\n",
      "Requirement already satisfied: six>=1.9 in c:\\users\\charan\\anaconda3\\lib\\site-packages (from protobuf!=3.11,>=3.6.0->streamlit) (1.15.0)\n",
      "Requirement already satisfied: traitlets>=4.3.2 in c:\\users\\charan\\anaconda3\\lib\\site-packages (from pydeck>=0.1.dev5->streamlit) (4.3.3)\n",
      "Requirement already satisfied: ipywidgets>=7.0.0 in c:\\users\\charan\\anaconda3\\lib\\site-packages (from pydeck>=0.1.dev5->streamlit) (7.5.1)\n",
      "Requirement already satisfied: ipykernel>=5.1.2 in c:\\users\\charan\\anaconda3\\lib\\site-packages (from pydeck>=0.1.dev5->streamlit) (5.1.2)\n",
      "Requirement already satisfied: jupyter-client in c:\\users\\charan\\anaconda3\\lib\\site-packages (from ipykernel>=5.1.2->pydeck>=0.1.dev5->streamlit) (5.3.3)\n",
      "Requirement already satisfied: ipython>=5.0.0 in c:\\users\\charan\\anaconda3\\lib\\site-packages (from ipykernel>=5.1.2->pydeck>=0.1.dev5->streamlit) (7.8.0)\n",
      "Requirement already satisfied: jedi>=0.10 in c:\\users\\charan\\anaconda3\\lib\\site-packages (from ipython>=5.0.0->ipykernel>=5.1.2->pydeck>=0.1.dev5->streamlit) (0.15.1)\n",
      "Requirement already satisfied: setuptools>=18.5 in c:\\users\\charan\\anaconda3\\lib\\site-packages (from ipython>=5.0.0->ipykernel>=5.1.2->pydeck>=0.1.dev5->streamlit) (41.4.0)\n",
      "Requirement already satisfied: pygments in c:\\users\\charan\\anaconda3\\lib\\site-packages (from ipython>=5.0.0->ipykernel>=5.1.2->pydeck>=0.1.dev5->streamlit) (2.4.2)\n",
      "Requirement already satisfied: decorator in c:\\users\\charan\\anaconda3\\lib\\site-packages (from ipython>=5.0.0->ipykernel>=5.1.2->pydeck>=0.1.dev5->streamlit) (4.4.0)\n",
      "Requirement already satisfied: pickleshare in c:\\users\\charan\\anaconda3\\lib\\site-packages (from ipython>=5.0.0->ipykernel>=5.1.2->pydeck>=0.1.dev5->streamlit) (0.7.5)\n",
      "Requirement already satisfied: backcall in c:\\users\\charan\\anaconda3\\lib\\site-packages (from ipython>=5.0.0->ipykernel>=5.1.2->pydeck>=0.1.dev5->streamlit) (0.1.0)\n",
      "Requirement already satisfied: prompt-toolkit<2.1.0,>=2.0.0 in c:\\users\\charan\\anaconda3\\lib\\site-packages (from ipython>=5.0.0->ipykernel>=5.1.2->pydeck>=0.1.dev5->streamlit) (2.0.10)\n",
      "Requirement already satisfied: colorama in c:\\users\\charan\\anaconda3\\lib\\site-packages (from ipython>=5.0.0->ipykernel>=5.1.2->pydeck>=0.1.dev5->streamlit) (0.4.1)\n",
      "Requirement already satisfied: widgetsnbextension~=3.5.0 in c:\\users\\charan\\anaconda3\\lib\\site-packages (from ipywidgets>=7.0.0->pydeck>=0.1.dev5->streamlit) (3.5.1)\n",
      "Requirement already satisfied: nbformat>=4.2.0 in c:\\users\\charan\\anaconda3\\lib\\site-packages (from ipywidgets>=7.0.0->pydeck>=0.1.dev5->streamlit) (4.4.0)\n",
      "Requirement already satisfied: parso>=0.5.0 in c:\\users\\charan\\anaconda3\\lib\\site-packages (from jedi>=0.10->ipython>=5.0.0->ipykernel>=5.1.2->pydeck>=0.1.dev5->streamlit) (0.5.1)\n",
      "Requirement already satisfied: MarkupSafe>=0.23 in c:\\users\\charan\\anaconda3\\lib\\site-packages (from jinja2->altair>=3.2.0->streamlit) (1.1.1)\n",
      "Requirement already satisfied: jupyter-core in c:\\users\\charan\\anaconda3\\lib\\site-packages (from nbformat>=4.2.0->ipywidgets>=7.0.0->pydeck>=0.1.dev5->streamlit) (4.5.0)\n",
      "Requirement already satisfied: ipython-genutils in c:\\users\\charan\\anaconda3\\lib\\site-packages (from nbformat>=4.2.0->ipywidgets>=7.0.0->pydeck>=0.1.dev5->streamlit) (0.2.0)\n",
      "Requirement already satisfied: attrs>=17.4.0 in c:\\users\\charan\\anaconda3\\lib\\site-packages (from jsonschema->altair>=3.2.0->streamlit) (19.2.0)\n",
      "Requirement already satisfied: pyrsistent>=0.14.0 in c:\\users\\charan\\anaconda3\\lib\\site-packages (from jsonschema->altair>=3.2.0->streamlit) (0.15.4)\n",
      "Requirement already satisfied: wcwidth in c:\\users\\charan\\anaconda3\\lib\\site-packages (from prompt-toolkit<2.1.0,>=2.0.0->ipython>=5.0.0->ipykernel>=5.1.2->pydeck>=0.1.dev5->streamlit) (0.1.7)\n",
      "Requirement already satisfied: notebook>=4.4.1 in c:\\users\\charan\\anaconda3\\lib\\site-packages (from widgetsnbextension~=3.5.0->ipywidgets>=7.0.0->pydeck>=0.1.dev5->streamlit) (6.0.1)\n",
      "Requirement already satisfied: Send2Trash in c:\\users\\charan\\anaconda3\\lib\\site-packages (from notebook>=4.4.1->widgetsnbextension~=3.5.0->ipywidgets>=7.0.0->pydeck>=0.1.dev5->streamlit) (1.5.0)\n",
      "Requirement already satisfied: prometheus-client in c:\\users\\charan\\anaconda3\\lib\\site-packages (from notebook>=4.4.1->widgetsnbextension~=3.5.0->ipywidgets>=7.0.0->pydeck>=0.1.dev5->streamlit) (0.7.1)\n",
      "Requirement already satisfied: pyzmq>=17 in c:\\users\\charan\\anaconda3\\lib\\site-packages (from notebook>=4.4.1->widgetsnbextension~=3.5.0->ipywidgets>=7.0.0->pydeck>=0.1.dev5->streamlit) (18.1.0)\n",
      "Requirement already satisfied: terminado>=0.8.1 in c:\\users\\charan\\anaconda3\\lib\\site-packages (from notebook>=4.4.1->widgetsnbextension~=3.5.0->ipywidgets>=7.0.0->pydeck>=0.1.dev5->streamlit) (0.8.2)\n",
      "Requirement already satisfied: nbconvert in c:\\users\\charan\\anaconda3\\lib\\site-packages (from notebook>=4.4.1->widgetsnbextension~=3.5.0->ipywidgets>=7.0.0->pydeck>=0.1.dev5->streamlit) (5.6.0)\n",
      "Requirement already satisfied: pywin32>=1.0 in c:\\users\\charan\\anaconda3\\lib\\site-packages (from jupyter-client->ipykernel>=5.1.2->pydeck>=0.1.dev5->streamlit) (223)\n",
      "Requirement already satisfied: gitdb<5,>=4.0.1 in c:\\users\\charan\\anaconda3\\lib\\site-packages (from gitpython->streamlit) (4.0.7)\n",
      "Requirement already satisfied: smmap<5,>=3.0.1 in c:\\users\\charan\\anaconda3\\lib\\site-packages (from gitdb<5,>=4.0.1->gitpython->streamlit) (4.0.0)\n",
      "Requirement already satisfied: pandocfilters>=1.4.1 in c:\\users\\charan\\anaconda3\\lib\\site-packages (from nbconvert->notebook>=4.4.1->widgetsnbextension~=3.5.0->ipywidgets>=7.0.0->pydeck>=0.1.dev5->streamlit) (1.4.2)\n",
      "Requirement already satisfied: bleach in c:\\users\\charan\\anaconda3\\lib\\site-packages (from nbconvert->notebook>=4.4.1->widgetsnbextension~=3.5.0->ipywidgets>=7.0.0->pydeck>=0.1.dev5->streamlit) (3.1.0)\n",
      "Requirement already satisfied: defusedxml in c:\\users\\charan\\anaconda3\\lib\\site-packages (from nbconvert->notebook>=4.4.1->widgetsnbextension~=3.5.0->ipywidgets>=7.0.0->pydeck>=0.1.dev5->streamlit) (0.6.0)\n",
      "Requirement already satisfied: testpath in c:\\users\\charan\\anaconda3\\lib\\site-packages (from nbconvert->notebook>=4.4.1->widgetsnbextension~=3.5.0->ipywidgets>=7.0.0->pydeck>=0.1.dev5->streamlit) (0.4.2)\n",
      "Requirement already satisfied: mistune<2,>=0.8.1 in c:\\users\\charan\\anaconda3\\lib\\site-packages (from nbconvert->notebook>=4.4.1->widgetsnbextension~=3.5.0->ipywidgets>=7.0.0->pydeck>=0.1.dev5->streamlit) (0.8.4)\n",
      "Requirement already satisfied: webencodings in c:\\users\\charan\\anaconda3\\lib\\site-packages (from bleach->nbconvert->notebook>=4.4.1->widgetsnbextension~=3.5.0->ipywidgets>=7.0.0->pydeck>=0.1.dev5->streamlit) (0.5.1)\n",
      "Requirement already satisfied: pyparsing>=2.0.2 in c:\\users\\charan\\anaconda3\\lib\\site-packages (from packaging->streamlit) (2.4.2)\n",
      "Requirement already satisfied: chardet<3.1.0,>=3.0.2 in c:\\users\\charan\\anaconda3\\lib\\site-packages (from requests->streamlit) (3.0.4)\n",
      "Requirement already satisfied: certifi>=2017.4.17 in c:\\users\\charan\\anaconda3\\lib\\site-packages (from requests->streamlit) (2019.9.11)\n",
      "Requirement already satisfied: urllib3!=1.25.0,!=1.25.1,<1.26,>=1.21.1 in c:\\users\\charan\\anaconda3\\lib\\site-packages (from requests->streamlit) (1.24.2)\n",
      "Requirement already satisfied: idna<2.9,>=2.5 in c:\\users\\charan\\anaconda3\\lib\\site-packages (from requests->streamlit) (2.8)\n",
      "Installing collected packages: streamlit\n",
      "  Attempting uninstall: streamlit\n",
      "    Found existing installation: streamlit 0.79.0\n",
      "    Uninstalling streamlit-0.79.0:\n",
      "      Successfully uninstalled streamlit-0.79.0\n",
      "Successfully installed streamlit-0.82.0\n",
      "Note: you may need to restart the kernel to use updated packages.\n"
     ]
    },
    {
     "name": "stderr",
     "output_type": "stream",
     "text": [
      "WARNING: You are using pip version 21.0.1; however, version 21.1.1 is available.\n",
      "You should consider upgrading via the 'C:\\Users\\charan\\Anaconda3\\python.exe -m pip install --upgrade pip' command.\n"
     ]
    }
   ],
   "source": [
    "pip install -U streamlit"
   ]
  }
 ],
 "metadata": {
  "kernelspec": {
   "display_name": "Python 3",
   "language": "python",
   "name": "python3"
  },
  "language_info": {
   "codemirror_mode": {
    "name": "ipython",
    "version": 3
   },
   "file_extension": ".py",
   "mimetype": "text/x-python",
   "name": "python",
   "nbconvert_exporter": "python",
   "pygments_lexer": "ipython3",
   "version": "3.7.4"
  }
 },
 "nbformat": 4,
 "nbformat_minor": 2
}
